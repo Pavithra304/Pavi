{
  "nbformat": 4,
  "nbformat_minor": 0,
  "metadata": {
    "colab": {
      "name": "mapmerge.ipynb",
      "provenance": [],
      "collapsed_sections": [],
      "authorship_tag": "ABX9TyOavuTKhI5DIBix09eZeFup",
      "include_colab_link": true
    },
    "kernelspec": {
      "name": "python3",
      "display_name": "Python 3"
    }
  },
  "cells": [
    {
      "cell_type": "markdown",
      "metadata": {
        "id": "view-in-github",
        "colab_type": "text"
      },
      "source": [
        "<a href=\"https://colab.research.google.com/github/Pavithra304/Pavi/blob/master/mapmerge.ipynb\" target=\"_parent\"><img src=\"https://colab.research.google.com/assets/colab-badge.svg\" alt=\"Open In Colab\"/></a>"
      ]
    },
    {
      "cell_type": "code",
      "metadata": {
        "id": "IDt1K0eoX_0W",
        "colab_type": "code",
        "colab": {}
      },
      "source": [
        "import numpy as np\n",
        "import pandas as pd\n",
        "\n",
        "#for getting world map\n",
        "import folium"
      ],
      "execution_count": 18,
      "outputs": []
    },
    {
      "cell_type": "code",
      "metadata": {
        "id": "oFLVVqapYQzm",
        "colab_type": "code",
        "colab": {
          "base_uri": "https://localhost:8080/",
          "height": 195
        },
        "outputId": "dcce5e8e-d754-4617-9ee5-c8c1f8e4d393"
      },
      "source": [
        "i = pd.read_html(\"http://www.quickgs.com/latitudinal-and-longitudinal-extents-of-india-indian-states-and-cities/\") \n",
        "\n",
        "#convering the table data into DataFrame\n",
        "coor= pd.DataFrame(i[0])\n",
        "\n",
        "coor.head()"
      ],
      "execution_count": 49,
      "outputs": [
        {
          "output_type": "execute_result",
          "data": {
            "text/html": [
              "<div>\n",
              "<style scoped>\n",
              "    .dataframe tbody tr th:only-of-type {\n",
              "        vertical-align: middle;\n",
              "    }\n",
              "\n",
              "    .dataframe tbody tr th {\n",
              "        vertical-align: top;\n",
              "    }\n",
              "\n",
              "    .dataframe thead th {\n",
              "        text-align: right;\n",
              "    }\n",
              "</style>\n",
              "<table border=\"1\" class=\"dataframe\">\n",
              "  <thead>\n",
              "    <tr style=\"text-align: right;\">\n",
              "      <th></th>\n",
              "      <th>State</th>\n",
              "      <th>Latitude</th>\n",
              "      <th>Longitude</th>\n",
              "    </tr>\n",
              "  </thead>\n",
              "  <tbody>\n",
              "    <tr>\n",
              "      <th>0</th>\n",
              "      <td>Andhra Pradesh</td>\n",
              "      <td>15.91°N</td>\n",
              "      <td>79.74°E</td>\n",
              "    </tr>\n",
              "    <tr>\n",
              "      <th>1</th>\n",
              "      <td>Arunachal Pradesh</td>\n",
              "      <td>28.21°N</td>\n",
              "      <td>94.72°E</td>\n",
              "    </tr>\n",
              "    <tr>\n",
              "      <th>2</th>\n",
              "      <td>Assam</td>\n",
              "      <td>26.20°N</td>\n",
              "      <td>92.93°E</td>\n",
              "    </tr>\n",
              "    <tr>\n",
              "      <th>3</th>\n",
              "      <td>Bihar</td>\n",
              "      <td>25.09°N</td>\n",
              "      <td>85.31°E</td>\n",
              "    </tr>\n",
              "    <tr>\n",
              "      <th>4</th>\n",
              "      <td>Chhattisgarh</td>\n",
              "      <td>21.27°N</td>\n",
              "      <td>81.86°E</td>\n",
              "    </tr>\n",
              "  </tbody>\n",
              "</table>\n",
              "</div>"
            ],
            "text/plain": [
              "               State Latitude Longitude\n",
              "0     Andhra Pradesh  15.91°N   79.74°E\n",
              "1  Arunachal Pradesh  28.21°N   94.72°E\n",
              "2              Assam  26.20°N   92.93°E\n",
              "3              Bihar  25.09°N   85.31°E\n",
              "4       Chhattisgarh  21.27°N   81.86°E"
            ]
          },
          "metadata": {
            "tags": []
          },
          "execution_count": 49
        }
      ]
    },
    {
      "cell_type": "code",
      "metadata": {
        "id": "N_xWv2P5YYte",
        "colab_type": "code",
        "colab": {
          "base_uri": "https://localhost:8080/",
          "height": 305
        },
        "outputId": "990b9d54-3492-40e6-9196-19d24a035850"
      },
      "source": [
        "corona = pd.read_html('https://en.wikipedia.org/wiki/COVID-19_pandemic_in_India#covid19-container',match='State/Union Territory')\n",
        "\n",
        "#Convert to DataFrame\n",
        "cov19 = pd.DataFrame(corona[0])\n",
        "\n",
        "cov19.head()"
      ],
      "execution_count": 50,
      "outputs": [
        {
          "output_type": "execute_result",
          "data": {
            "text/html": [
              "<div>\n",
              "<style scoped>\n",
              "    .dataframe tbody tr th:only-of-type {\n",
              "        vertical-align: middle;\n",
              "    }\n",
              "\n",
              "    .dataframe tbody tr th {\n",
              "        vertical-align: top;\n",
              "    }\n",
              "\n",
              "    .dataframe thead tr th {\n",
              "        text-align: left;\n",
              "    }\n",
              "</style>\n",
              "<table border=\"1\" class=\"dataframe\">\n",
              "  <thead>\n",
              "    <tr>\n",
              "      <th></th>\n",
              "      <th colspan=\"9\" halign=\"left\">[show all]viewtalkeditCOVID-19 pandemic in India by state and union territory</th>\n",
              "    </tr>\n",
              "    <tr>\n",
              "      <th></th>\n",
              "      <th>State/Union Territory</th>\n",
              "      <th>Cases[a]</th>\n",
              "      <th>Deaths</th>\n",
              "      <th>Recoveries</th>\n",
              "      <th>Active</th>\n",
              "      <th>Unnamed: 5_level_1</th>\n",
              "      <th>Unnamed: 6_level_1</th>\n",
              "      <th>Unnamed: 7_level_1</th>\n",
              "      <th>Unnamed: 8_level_1</th>\n",
              "    </tr>\n",
              "    <tr>\n",
              "      <th></th>\n",
              "      <th>35 / 36</th>\n",
              "      <th>1,038,716</th>\n",
              "      <th>26,273</th>\n",
              "      <th>653,751</th>\n",
              "      <th>358,692</th>\n",
              "      <th>Unnamed: 5_level_2</th>\n",
              "      <th>Unnamed: 6_level_2</th>\n",
              "      <th>Unnamed: 7_level_2</th>\n",
              "      <th>Unnamed: 8_level_2</th>\n",
              "    </tr>\n",
              "  </thead>\n",
              "  <tbody>\n",
              "    <tr>\n",
              "      <th>0</th>\n",
              "      <td>Andaman and Nicobar Islands</td>\n",
              "      <td>194</td>\n",
              "      <td>0</td>\n",
              "      <td>142</td>\n",
              "      <td>52</td>\n",
              "      <td>NaN</td>\n",
              "      <td>NaN</td>\n",
              "      <td>NaN</td>\n",
              "      <td>NaN</td>\n",
              "    </tr>\n",
              "    <tr>\n",
              "      <th>1</th>\n",
              "      <td>Andhra Pradesh</td>\n",
              "      <td>40646</td>\n",
              "      <td>534</td>\n",
              "      <td>20298</td>\n",
              "      <td>19814</td>\n",
              "      <td>NaN</td>\n",
              "      <td>NaN</td>\n",
              "      <td>NaN</td>\n",
              "      <td>NaN</td>\n",
              "    </tr>\n",
              "    <tr>\n",
              "      <th>2</th>\n",
              "      <td>Arunachal Pradesh</td>\n",
              "      <td>609</td>\n",
              "      <td>3</td>\n",
              "      <td>175</td>\n",
              "      <td>431</td>\n",
              "      <td>NaN</td>\n",
              "      <td>NaN</td>\n",
              "      <td>NaN</td>\n",
              "      <td>NaN</td>\n",
              "    </tr>\n",
              "    <tr>\n",
              "      <th>3</th>\n",
              "      <td>Assam</td>\n",
              "      <td>20,646[b]</td>\n",
              "      <td>51</td>\n",
              "      <td>14105</td>\n",
              "      <td>6490</td>\n",
              "      <td>NaN</td>\n",
              "      <td>NaN</td>\n",
              "      <td>NaN</td>\n",
              "      <td>NaN</td>\n",
              "    </tr>\n",
              "    <tr>\n",
              "      <th>4</th>\n",
              "      <td>Bihar</td>\n",
              "      <td>23589</td>\n",
              "      <td>201</td>\n",
              "      <td>14621</td>\n",
              "      <td>8767</td>\n",
              "      <td>NaN</td>\n",
              "      <td>NaN</td>\n",
              "      <td>NaN</td>\n",
              "      <td>NaN</td>\n",
              "    </tr>\n",
              "  </tbody>\n",
              "</table>\n",
              "</div>"
            ],
            "text/plain": [
              "  [show all]viewtalkeditCOVID-19 pandemic in India by state and union territory  ...                   \n",
              "                                                          State/Union Territory  ... Unnamed: 8_level_1\n",
              "                                                                        35 / 36  ... Unnamed: 8_level_2\n",
              "0                        Andaman and Nicobar Islands                             ...                NaN\n",
              "1                                     Andhra Pradesh                             ...                NaN\n",
              "2                                  Arunachal Pradesh                             ...                NaN\n",
              "3                                              Assam                             ...                NaN\n",
              "4                                              Bihar                             ...                NaN\n",
              "\n",
              "[5 rows x 9 columns]"
            ]
          },
          "metadata": {
            "tags": []
          },
          "execution_count": 50
        }
      ]
    },
    {
      "cell_type": "code",
      "metadata": {
        "id": "9nIWY-sLh87U",
        "colab_type": "code",
        "colab": {
          "base_uri": "https://localhost:8080/",
          "height": 195
        },
        "outputId": "6b84a9dd-f72f-4046-b700-f19100da3d3e"
      },
      "source": [
        "coor['Latitude']  = coor['Latitude'].replace('\\u00b0','', regex=True)\n",
        "coor['Latitude']  = coor['Latitude'].replace('N','', regex=True).astype('float')\n",
        "coor['Longitude'] = coor['Longitude'].replace('\\u00b0','', regex=True)\n",
        "coor['Longitude'] = coor['Longitude'].replace('E','', regex=True).astype('float')\n",
        "coor.head()"
      ],
      "execution_count": 51,
      "outputs": [
        {
          "output_type": "execute_result",
          "data": {
            "text/html": [
              "<div>\n",
              "<style scoped>\n",
              "    .dataframe tbody tr th:only-of-type {\n",
              "        vertical-align: middle;\n",
              "    }\n",
              "\n",
              "    .dataframe tbody tr th {\n",
              "        vertical-align: top;\n",
              "    }\n",
              "\n",
              "    .dataframe thead th {\n",
              "        text-align: right;\n",
              "    }\n",
              "</style>\n",
              "<table border=\"1\" class=\"dataframe\">\n",
              "  <thead>\n",
              "    <tr style=\"text-align: right;\">\n",
              "      <th></th>\n",
              "      <th>State</th>\n",
              "      <th>Latitude</th>\n",
              "      <th>Longitude</th>\n",
              "    </tr>\n",
              "  </thead>\n",
              "  <tbody>\n",
              "    <tr>\n",
              "      <th>0</th>\n",
              "      <td>Andhra Pradesh</td>\n",
              "      <td>15.91</td>\n",
              "      <td>79.74</td>\n",
              "    </tr>\n",
              "    <tr>\n",
              "      <th>1</th>\n",
              "      <td>Arunachal Pradesh</td>\n",
              "      <td>28.21</td>\n",
              "      <td>94.72</td>\n",
              "    </tr>\n",
              "    <tr>\n",
              "      <th>2</th>\n",
              "      <td>Assam</td>\n",
              "      <td>26.20</td>\n",
              "      <td>92.93</td>\n",
              "    </tr>\n",
              "    <tr>\n",
              "      <th>3</th>\n",
              "      <td>Bihar</td>\n",
              "      <td>25.09</td>\n",
              "      <td>85.31</td>\n",
              "    </tr>\n",
              "    <tr>\n",
              "      <th>4</th>\n",
              "      <td>Chhattisgarh</td>\n",
              "      <td>21.27</td>\n",
              "      <td>81.86</td>\n",
              "    </tr>\n",
              "  </tbody>\n",
              "</table>\n",
              "</div>"
            ],
            "text/plain": [
              "               State  Latitude  Longitude\n",
              "0     Andhra Pradesh     15.91      79.74\n",
              "1  Arunachal Pradesh     28.21      94.72\n",
              "2              Assam     26.20      92.93\n",
              "3              Bihar     25.09      85.31\n",
              "4       Chhattisgarh     21.27      81.86"
            ]
          },
          "metadata": {
            "tags": []
          },
          "execution_count": 51
        }
      ]
    },
    {
      "cell_type": "code",
      "metadata": {
        "id": "ws9wALksjLgl",
        "colab_type": "code",
        "colab": {
          "base_uri": "https://localhost:8080/",
          "height": 195
        },
        "outputId": "7b047da4-bf2b-417a-9b03-aae9a9369ffd"
      },
      "source": [
        "cov19 = cov19.iloc[:-3,:-4]\n",
        "\n",
        "# Renaming Attribute Names for simplicity\n",
        "cov19.columns = ['State','Total cases','Deaths','Recoveries','Active cases']\n",
        "\n",
        "cov19.head()"
      ],
      "execution_count": 52,
      "outputs": [
        {
          "output_type": "execute_result",
          "data": {
            "text/html": [
              "<div>\n",
              "<style scoped>\n",
              "    .dataframe tbody tr th:only-of-type {\n",
              "        vertical-align: middle;\n",
              "    }\n",
              "\n",
              "    .dataframe tbody tr th {\n",
              "        vertical-align: top;\n",
              "    }\n",
              "\n",
              "    .dataframe thead th {\n",
              "        text-align: right;\n",
              "    }\n",
              "</style>\n",
              "<table border=\"1\" class=\"dataframe\">\n",
              "  <thead>\n",
              "    <tr style=\"text-align: right;\">\n",
              "      <th></th>\n",
              "      <th>State</th>\n",
              "      <th>Total cases</th>\n",
              "      <th>Deaths</th>\n",
              "      <th>Recoveries</th>\n",
              "      <th>Active cases</th>\n",
              "    </tr>\n",
              "  </thead>\n",
              "  <tbody>\n",
              "    <tr>\n",
              "      <th>0</th>\n",
              "      <td>Andaman and Nicobar Islands</td>\n",
              "      <td>194</td>\n",
              "      <td>0</td>\n",
              "      <td>142</td>\n",
              "      <td>52</td>\n",
              "    </tr>\n",
              "    <tr>\n",
              "      <th>1</th>\n",
              "      <td>Andhra Pradesh</td>\n",
              "      <td>40646</td>\n",
              "      <td>534</td>\n",
              "      <td>20298</td>\n",
              "      <td>19814</td>\n",
              "    </tr>\n",
              "    <tr>\n",
              "      <th>2</th>\n",
              "      <td>Arunachal Pradesh</td>\n",
              "      <td>609</td>\n",
              "      <td>3</td>\n",
              "      <td>175</td>\n",
              "      <td>431</td>\n",
              "    </tr>\n",
              "    <tr>\n",
              "      <th>3</th>\n",
              "      <td>Assam</td>\n",
              "      <td>20,646[b]</td>\n",
              "      <td>51</td>\n",
              "      <td>14105</td>\n",
              "      <td>6490</td>\n",
              "    </tr>\n",
              "    <tr>\n",
              "      <th>4</th>\n",
              "      <td>Bihar</td>\n",
              "      <td>23589</td>\n",
              "      <td>201</td>\n",
              "      <td>14621</td>\n",
              "      <td>8767</td>\n",
              "    </tr>\n",
              "  </tbody>\n",
              "</table>\n",
              "</div>"
            ],
            "text/plain": [
              "                         State Total cases Deaths Recoveries Active cases\n",
              "0  Andaman and Nicobar Islands         194      0        142           52\n",
              "1               Andhra Pradesh       40646    534      20298        19814\n",
              "2            Arunachal Pradesh         609      3        175          431\n",
              "3                        Assam   20,646[b]     51      14105         6490\n",
              "4                        Bihar       23589    201      14621         8767"
            ]
          },
          "metadata": {
            "tags": []
          },
          "execution_count": 52
        }
      ]
    },
    {
      "cell_type": "code",
      "metadata": {
        "id": "tJTlXkrTjS2r",
        "colab_type": "code",
        "colab": {
          "base_uri": "https://localhost:8080/",
          "height": 195
        },
        "outputId": "703b242d-b9f0-46c5-8326-cf7a1ca6d619"
      },
      "source": [
        "final = pd.merge(coor, cov19, how ='inner', on ='State')\n",
        "final.head()"
      ],
      "execution_count": 53,
      "outputs": [
        {
          "output_type": "execute_result",
          "data": {
            "text/html": [
              "<div>\n",
              "<style scoped>\n",
              "    .dataframe tbody tr th:only-of-type {\n",
              "        vertical-align: middle;\n",
              "    }\n",
              "\n",
              "    .dataframe tbody tr th {\n",
              "        vertical-align: top;\n",
              "    }\n",
              "\n",
              "    .dataframe thead th {\n",
              "        text-align: right;\n",
              "    }\n",
              "</style>\n",
              "<table border=\"1\" class=\"dataframe\">\n",
              "  <thead>\n",
              "    <tr style=\"text-align: right;\">\n",
              "      <th></th>\n",
              "      <th>State</th>\n",
              "      <th>Latitude</th>\n",
              "      <th>Longitude</th>\n",
              "      <th>Total cases</th>\n",
              "      <th>Deaths</th>\n",
              "      <th>Recoveries</th>\n",
              "      <th>Active cases</th>\n",
              "    </tr>\n",
              "  </thead>\n",
              "  <tbody>\n",
              "    <tr>\n",
              "      <th>0</th>\n",
              "      <td>Andhra Pradesh</td>\n",
              "      <td>15.91</td>\n",
              "      <td>79.74</td>\n",
              "      <td>40646</td>\n",
              "      <td>534</td>\n",
              "      <td>20298</td>\n",
              "      <td>19814</td>\n",
              "    </tr>\n",
              "    <tr>\n",
              "      <th>1</th>\n",
              "      <td>Arunachal Pradesh</td>\n",
              "      <td>28.21</td>\n",
              "      <td>94.72</td>\n",
              "      <td>609</td>\n",
              "      <td>3</td>\n",
              "      <td>175</td>\n",
              "      <td>431</td>\n",
              "    </tr>\n",
              "    <tr>\n",
              "      <th>2</th>\n",
              "      <td>Assam</td>\n",
              "      <td>26.20</td>\n",
              "      <td>92.93</td>\n",
              "      <td>20,646[b]</td>\n",
              "      <td>51</td>\n",
              "      <td>14105</td>\n",
              "      <td>6490</td>\n",
              "    </tr>\n",
              "    <tr>\n",
              "      <th>3</th>\n",
              "      <td>Bihar</td>\n",
              "      <td>25.09</td>\n",
              "      <td>85.31</td>\n",
              "      <td>23589</td>\n",
              "      <td>201</td>\n",
              "      <td>14621</td>\n",
              "      <td>8767</td>\n",
              "    </tr>\n",
              "    <tr>\n",
              "      <th>4</th>\n",
              "      <td>Chhattisgarh</td>\n",
              "      <td>21.27</td>\n",
              "      <td>81.86</td>\n",
              "      <td>4964</td>\n",
              "      <td>23</td>\n",
              "      <td>3512</td>\n",
              "      <td>1429</td>\n",
              "    </tr>\n",
              "  </tbody>\n",
              "</table>\n",
              "</div>"
            ],
            "text/plain": [
              "               State  Latitude  Longitude  ... Deaths Recoveries Active cases\n",
              "0     Andhra Pradesh     15.91      79.74  ...    534      20298        19814\n",
              "1  Arunachal Pradesh     28.21      94.72  ...      3        175          431\n",
              "2              Assam     26.20      92.93  ...     51      14105         6490\n",
              "3              Bihar     25.09      85.31  ...    201      14621         8767\n",
              "4       Chhattisgarh     21.27      81.86  ...     23       3512         1429\n",
              "\n",
              "[5 rows x 7 columns]"
            ]
          },
          "metadata": {
            "tags": []
          },
          "execution_count": 53
        }
      ]
    },
    {
      "cell_type": "code",
      "metadata": {
        "id": "gq1F2H5mjbkD",
        "colab_type": "code",
        "colab": {}
      },
      "source": [
        "india = folium.Map(location = [20.5937,78.9629],zoom_start=4.5)\n",
        "#adding to map\n",
        "for state,lat,long,total_cases,Death,Recov,Active in zip(list(final['State']),list(final['Latitude']),list(final['Longitude']),list(final['Total cases']),list(final['Deaths']),list(final['Recoveries']),list(final['Active cases'])):\n",
        "    #for creating circle marker\n",
        "    folium.CircleMarker(location = [lat,long],\n",
        "                       radius = 5,\n",
        "                       color=' black',\n",
        "                       fill = True,\n",
        "                       fill_color=\"red\").add_to(india)\n",
        "    #for creating marker\n",
        "    folium.Marker(location = [lat,long],\n",
        "                  # adding information that need to be displayed on popup\n",
        "                  popup=folium.Popup(('<strong><b>State  : '+state+'</strong> <br>' +\n",
        "                    '<strong><b>Total Cases : '+total_cases+'</striong><br>' +\n",
        "                    '<strong><font color= red>Deaths : </font>'+Death+'</striong><br>' +\n",
        "                    '<strong><font color=green>Recoveries : </font>'+Recov+'</striong><br>' +\n",
        "                    '<strong><b>Active Cases : '+Active+'</striong>' ),max_width=200)).add_to(india)\n",
        "    "
      ],
      "execution_count": 54,
      "outputs": []
    },
    {
      "cell_type": "code",
      "metadata": {
        "id": "3d3-Oq0clHem",
        "colab_type": "code",
        "colab": {
          "base_uri": "https://localhost:8080/",
          "height": 685
        },
        "outputId": "f117ab46-5e12-4944-bb45-753d2e1afe86"
      },
      "source": [
        "india"
      ],
      "execution_count": 55,
      "outputs": [
        {
          "output_type": "execute_result",
          "data": {
            "text/html": [
              "<div style=\"width:100%;\"><div style=\"position:relative;width:100%;height:0;padding-bottom:60%;\"><span style=\"color:#565656\">Make this Notebook Trusted to load map: File -> Trust Notebook</span><iframe src=\"about:blank\" style=\"position:absolute;width:100%;height:100%;left:0;top:0;border:none !important;\" data-html=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 onload=\"this.contentDocument.open();this.contentDocument.write(atob(this.getAttribute('data-html')));this.contentDocument.close();\" allowfullscreen webkitallowfullscreen mozallowfullscreen></iframe></div></div>"
            ],
            "text/plain": [
              "<folium.folium.Map at 0x7fe711dba6d8>"
            ]
          },
          "metadata": {
            "tags": []
          },
          "execution_count": 55
        }
      ]
    }
  ]
}